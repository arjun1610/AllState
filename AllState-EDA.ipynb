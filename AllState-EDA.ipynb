{
 "cells": [
  {
   "cell_type": "code",
   "execution_count": 9,
   "metadata": {
    "collapsed": true
   },
   "outputs": [],
   "source": [
    "import pandas as pd\n",
    "import numpy as np\n",
    "import matplotlib.pyplot as plt\n",
    "% matplotlib inline\n",
    "import seaborn as sns\n",
    "from sklearn import preprocessing\n",
    "from sklearn.cross_validation import train_test_split, KFold\n",
    "from sklearn import metrics\n",
    "import xgboost as xgb\n",
    "import time\n",
    "from scipy.stats import norm, lognorm\n",
    "import matplotlib.mlab as mlab\n",
    "import matplotlib.pyplot as plt"
   ]
  },
  {
   "cell_type": "code",
   "execution_count": 76,
   "metadata": {
    "collapsed": true
   },
   "outputs": [],
   "source": [
    "data = pd.read_csv('input/train.csv')"
   ]
  },
  {
   "cell_type": "code",
   "execution_count": 77,
   "metadata": {
    "collapsed": true
   },
   "outputs": [],
   "source": [
    "test_data = pd.read_csv('input/test.csv')"
   ]
  },
  {
   "cell_type": "code",
   "execution_count": 78,
   "metadata": {
    "collapsed": true
   },
   "outputs": [],
   "source": [
    "mu = data['loss'].mean()\n",
    "sigma = data['loss'].std()\n",
    "data = data[(data['loss']- mu ) / sigma < 3]"
   ]
  },
  {
   "cell_type": "code",
   "execution_count": 79,
   "metadata": {
    "collapsed": false
   },
   "outputs": [
    {
     "data": {
      "text/plain": [
       "<matplotlib.axes._subplots.AxesSubplot at 0x7f86bb115750>"
      ]
     },
     "execution_count": 79,
     "metadata": {},
     "output_type": "execute_result"
    },
    {
     "data": {
      "image/png": "[encoded data removed]",
      "text/plain": [
       "<matplotlib.figure.Figure at 0x7f86c58322d0>"
      ]
     },
     "metadata": {},
     "output_type": "display_data"
    }
   ],
   "source": [
    "sns.regplot(data.cont2,data.loss)"
   ]
  },
  {
   "cell_type": "code",
   "execution_count": 12,
   "metadata": {
    "collapsed": true
   },
   "outputs": [],
   "source": [
    "tips = sns.load_dataset(\"tips\")"
   ]
  },
  {
   "cell_type": "code",
   "execution_count": 13,
   "metadata": {
    "collapsed": false
   },
   "outputs": [
    {
     "data": {
      "text/html": [
       "<div>\n",
       "<table border=\"1\" class=\"dataframe\">\n",
       "  <thead>\n",
       "    <tr style=\"text-align: right;\">\n",
       "      <th></th>\n",
       "      <th>total_bill</th>\n",
       "      <th>tip</th>\n",
       "      <th>sex</th>\n",
       "      <th>smoker</th>\n",
       "      <th>day</th>\n",
       "      <th>time</th>\n",
       "      <th>size</th>\n",
       "    </tr>\n",
       "  </thead>\n",
       "  <tbody>\n",
       "    <tr>\n",
       "      <th>0</th>\n",
       "      <td>16.99</td>\n",
       "      <td>1.01</td>\n",
       "      <td>Female</td>\n",
       "      <td>No</td>\n",
       "      <td>Sun</td>\n",
       "      <td>Dinner</td>\n",
       "      <td>2</td>\n",
       "    </tr>\n",
       "    <tr>\n",
       "      <th>1</th>\n",
       "      <td>10.34</td>\n",
       "      <td>1.66</td>\n",
       "      <td>Male</td>\n",
       "      <td>No</td>\n",
       "      <td>Sun</td>\n",
       "      <td>Dinner</td>\n",
       "      <td>3</td>\n",
       "    </tr>\n",
       "    <tr>\n",
       "      <th>2</th>\n",
       "      <td>21.01</td>\n",
       "      <td>3.50</td>\n",
       "      <td>Male</td>\n",
       "      <td>No</td>\n",
       "      <td>Sun</td>\n",
       "      <td>Dinner</td>\n",
       "      <td>3</td>\n",
       "    </tr>\n",
       "    <tr>\n",
       "      <th>3</th>\n",
       "      <td>23.68</td>\n",
       "      <td>3.31</td>\n",
       "      <td>Male</td>\n",
       "      <td>No</td>\n",
       "      <td>Sun</td>\n",
       "      <td>Dinner</td>\n",
       "      <td>2</td>\n",
       "    </tr>\n",
       "    <tr>\n",
       "      <th>4</th>\n",
       "      <td>24.59</td>\n",
       "      <td>3.61</td>\n",
       "      <td>Female</td>\n",
       "      <td>No</td>\n",
       "      <td>Sun</td>\n",
       "      <td>Dinner</td>\n",
       "      <td>4</td>\n",
       "    </tr>\n",
       "  </tbody>\n",
       "</table>\n",
       "</div>"
      ],
      "text/plain": [
       "   total_bill   tip     sex smoker  day    time  size\n",
       "0       16.99  1.01  Female     No  Sun  Dinner     2\n",
       "1       10.34  1.66    Male     No  Sun  Dinner     3\n",
       "2       21.01  3.50    Male     No  Sun  Dinner     3\n",
       "3       23.68  3.31    Male     No  Sun  Dinner     2\n",
       "4       24.59  3.61  Female     No  Sun  Dinner     4"
      ]
     },
     "execution_count": 13,
     "metadata": {},
     "output_type": "execute_result"
    }
   ],
   "source": [
    "tips.head()"
   ]
  },
  {
   "cell_type": "code",
   "execution_count": 80,
   "metadata": {
    "collapsed": false
   },
   "outputs": [
    {
     "data": {
      "text/html": [
       "<div>\n",
       "<table border=\"1\" class=\"dataframe\">\n",
       "  <thead>\n",
       "    <tr style=\"text-align: right;\">\n",
       "      <th></th>\n",
       "      <th>id</th>\n",
       "      <th>cont1</th>\n",
       "      <th>cont2</th>\n",
       "      <th>cont3</th>\n",
       "      <th>cont4</th>\n",
       "      <th>cont5</th>\n",
       "      <th>cont6</th>\n",
       "      <th>cont7</th>\n",
       "      <th>cont8</th>\n",
       "      <th>cont9</th>\n",
       "      <th>cont10</th>\n",
       "      <th>cont11</th>\n",
       "      <th>cont12</th>\n",
       "      <th>cont13</th>\n",
       "      <th>cont14</th>\n",
       "      <th>loss</th>\n",
       "    </tr>\n",
       "  </thead>\n",
       "  <tbody>\n",
       "    <tr>\n",
       "      <th>id</th>\n",
       "      <td>1.000000</td>\n",
       "      <td>0.002374</td>\n",
       "      <td>0.000673</td>\n",
       "      <td>0.000877</td>\n",
       "      <td>0.002365</td>\n",
       "      <td>0.000914</td>\n",
       "      <td>0.001853</td>\n",
       "      <td>0.002239</td>\n",
       "      <td>0.005636</td>\n",
       "      <td>0.002266</td>\n",
       "      <td>0.003023</td>\n",
       "      <td>0.001336</td>\n",
       "      <td>0.001163</td>\n",
       "      <td>0.001127</td>\n",
       "      <td>-0.005209</td>\n",
       "      <td>-0.000806</td>\n",
       "    </tr>\n",
       "    <tr>\n",
       "      <th>cont1</th>\n",
       "      <td>0.002374</td>\n",
       "      <td>1.000000</td>\n",
       "      <td>-0.086084</td>\n",
       "      <td>-0.445739</td>\n",
       "      <td>0.367092</td>\n",
       "      <td>-0.026904</td>\n",
       "      <td>0.758448</td>\n",
       "      <td>0.372800</td>\n",
       "      <td>0.360784</td>\n",
       "      <td>0.929662</td>\n",
       "      <td>0.808882</td>\n",
       "      <td>0.600279</td>\n",
       "      <td>0.618301</td>\n",
       "      <td>0.533174</td>\n",
       "      <td>0.056446</td>\n",
       "      <td>-0.022555</td>\n",
       "    </tr>\n",
       "    <tr>\n",
       "      <th>cont2</th>\n",
       "      <td>0.000673</td>\n",
       "      <td>-0.086084</td>\n",
       "      <td>1.000000</td>\n",
       "      <td>0.455022</td>\n",
       "      <td>0.040079</td>\n",
       "      <td>0.193995</td>\n",
       "      <td>0.013180</td>\n",
       "      <td>0.042289</td>\n",
       "      <td>0.136785</td>\n",
       "      <td>-0.034071</td>\n",
       "      <td>0.062029</td>\n",
       "      <td>0.112586</td>\n",
       "      <td>0.101999</td>\n",
       "      <td>0.023603</td>\n",
       "      <td>-0.046239</td>\n",
       "      <td>0.107156</td>\n",
       "    </tr>\n",
       "    <tr>\n",
       "      <th>cont3</th>\n",
       "      <td>0.000877</td>\n",
       "      <td>-0.445739</td>\n",
       "      <td>0.455022</td>\n",
       "      <td>1.000000</td>\n",
       "      <td>-0.341046</td>\n",
       "      <td>0.093218</td>\n",
       "      <td>-0.353002</td>\n",
       "      <td>0.088480</td>\n",
       "      <td>-0.186067</td>\n",
       "      <td>-0.418210</td>\n",
       "      <td>-0.327669</td>\n",
       "      <td>0.018320</td>\n",
       "      <td>-0.000701</td>\n",
       "      <td>-0.416981</td>\n",
       "      <td>-0.040542</td>\n",
       "      <td>0.081097</td>\n",
       "    </tr>\n",
       "    <tr>\n",
       "      <th>cont4</th>\n",
       "      <td>0.002365</td>\n",
       "      <td>0.367092</td>\n",
       "      <td>0.040079</td>\n",
       "      <td>-0.341046</td>\n",
       "      <td>1.000000</td>\n",
       "      <td>0.162806</td>\n",
       "      <td>0.221918</td>\n",
       "      <td>-0.110908</td>\n",
       "      <td>0.528736</td>\n",
       "      <td>0.328723</td>\n",
       "      <td>0.283136</td>\n",
       "      <td>0.123252</td>\n",
       "      <td>0.132614</td>\n",
       "      <td>0.177661</td>\n",
       "      <td>0.017719</td>\n",
       "      <td>-0.029570</td>\n",
       "    </tr>\n",
       "    <tr>\n",
       "      <th>cont5</th>\n",
       "      <td>0.000914</td>\n",
       "      <td>-0.026904</td>\n",
       "      <td>0.193995</td>\n",
       "      <td>0.093218</td>\n",
       "      <td>0.162806</td>\n",
       "      <td>1.000000</td>\n",
       "      <td>-0.150689</td>\n",
       "      <td>-0.248216</td>\n",
       "      <td>0.008442</td>\n",
       "      <td>-0.089954</td>\n",
       "      <td>-0.066179</td>\n",
       "      <td>-0.150728</td>\n",
       "      <td>-0.147246</td>\n",
       "      <td>-0.086051</td>\n",
       "      <td>-0.021885</td>\n",
       "      <td>-0.001851</td>\n",
       "    </tr>\n",
       "    <tr>\n",
       "      <th>cont6</th>\n",
       "      <td>0.001853</td>\n",
       "      <td>0.758448</td>\n",
       "      <td>0.013180</td>\n",
       "      <td>-0.353002</td>\n",
       "      <td>0.221918</td>\n",
       "      <td>-0.150689</td>\n",
       "      <td>1.000000</td>\n",
       "      <td>0.662385</td>\n",
       "      <td>0.438284</td>\n",
       "      <td>0.797736</td>\n",
       "      <td>0.883356</td>\n",
       "      <td>0.776231</td>\n",
       "      <td>0.787610</td>\n",
       "      <td>0.816465</td>\n",
       "      <td>0.042130</td>\n",
       "      <td>0.007888</td>\n",
       "    </tr>\n",
       "    <tr>\n",
       "      <th>cont7</th>\n",
       "      <td>0.002239</td>\n",
       "      <td>0.372800</td>\n",
       "      <td>0.042289</td>\n",
       "      <td>0.088480</td>\n",
       "      <td>-0.110908</td>\n",
       "      <td>-0.248216</td>\n",
       "      <td>0.662385</td>\n",
       "      <td>1.000000</td>\n",
       "      <td>0.144777</td>\n",
       "      <td>0.388290</td>\n",
       "      <td>0.496550</td>\n",
       "      <td>0.746581</td>\n",
       "      <td>0.742365</td>\n",
       "      <td>0.296531</td>\n",
       "      <td>0.021866</td>\n",
       "      <td>0.054381</td>\n",
       "    </tr>\n",
       "    <tr>\n",
       "      <th>cont8</th>\n",
       "      <td>0.005636</td>\n",
       "      <td>0.360784</td>\n",
       "      <td>0.136785</td>\n",
       "      <td>-0.186067</td>\n",
       "      <td>0.528736</td>\n",
       "      <td>0.008442</td>\n",
       "      <td>0.438284</td>\n",
       "      <td>0.144777</td>\n",
       "      <td>1.000000</td>\n",
       "      <td>0.452759</td>\n",
       "      <td>0.336292</td>\n",
       "      <td>0.304546</td>\n",
       "      <td>0.317945</td>\n",
       "      <td>0.477875</td>\n",
       "      <td>0.043995</td>\n",
       "      <td>0.020427</td>\n",
       "    </tr>\n",
       "    <tr>\n",
       "      <th>cont9</th>\n",
       "      <td>0.002266</td>\n",
       "      <td>0.929662</td>\n",
       "      <td>-0.034071</td>\n",
       "      <td>-0.418210</td>\n",
       "      <td>0.328723</td>\n",
       "      <td>-0.089954</td>\n",
       "      <td>0.797736</td>\n",
       "      <td>0.388290</td>\n",
       "      <td>0.452759</td>\n",
       "      <td>1.000000</td>\n",
       "      <td>0.785928</td>\n",
       "      <td>0.611497</td>\n",
       "      <td>0.630063</td>\n",
       "      <td>0.642154</td>\n",
       "      <td>0.073942</td>\n",
       "      <td>-0.000910</td>\n",
       "    </tr>\n",
       "    <tr>\n",
       "      <th>cont10</th>\n",
       "      <td>0.003023</td>\n",
       "      <td>0.808882</td>\n",
       "      <td>0.062029</td>\n",
       "      <td>-0.327669</td>\n",
       "      <td>0.283136</td>\n",
       "      <td>-0.066179</td>\n",
       "      <td>0.883356</td>\n",
       "      <td>0.496550</td>\n",
       "      <td>0.336292</td>\n",
       "      <td>0.785928</td>\n",
       "      <td>1.000000</td>\n",
       "      <td>0.705597</td>\n",
       "      <td>0.716464</td>\n",
       "      <td>0.707548</td>\n",
       "      <td>0.041601</td>\n",
       "      <td>-0.006588</td>\n",
       "    </tr>\n",
       "    <tr>\n",
       "      <th>cont11</th>\n",
       "      <td>0.001336</td>\n",
       "      <td>0.600279</td>\n",
       "      <td>0.112586</td>\n",
       "      <td>0.018320</td>\n",
       "      <td>0.123252</td>\n",
       "      <td>-0.150728</td>\n",
       "      <td>0.776231</td>\n",
       "      <td>0.746581</td>\n",
       "      <td>0.304546</td>\n",
       "      <td>0.611497</td>\n",
       "      <td>0.705597</td>\n",
       "      <td>1.000000</td>\n",
       "      <td>0.994388</td>\n",
       "      <td>0.473003</td>\n",
       "      <td>0.046790</td>\n",
       "      <td>0.045363</td>\n",
       "    </tr>\n",
       "    <tr>\n",
       "      <th>cont12</th>\n",
       "      <td>0.001163</td>\n",
       "      <td>0.618301</td>\n",
       "      <td>0.101999</td>\n",
       "      <td>-0.000701</td>\n",
       "      <td>0.132614</td>\n",
       "      <td>-0.147246</td>\n",
       "      <td>0.787610</td>\n",
       "      <td>0.742365</td>\n",
       "      <td>0.317945</td>\n",
       "      <td>0.630063</td>\n",
       "      <td>0.716464</td>\n",
       "      <td>0.994388</td>\n",
       "      <td>1.000000</td>\n",
       "      <td>0.485367</td>\n",
       "      <td>0.049778</td>\n",
       "      <td>0.044709</td>\n",
       "    </tr>\n",
       "    <tr>\n",
       "      <th>cont13</th>\n",
       "      <td>0.001127</td>\n",
       "      <td>0.533174</td>\n",
       "      <td>0.023603</td>\n",
       "      <td>-0.416981</td>\n",
       "      <td>0.177661</td>\n",
       "      <td>-0.086051</td>\n",
       "      <td>0.816465</td>\n",
       "      <td>0.296531</td>\n",
       "      <td>0.477875</td>\n",
       "      <td>0.642154</td>\n",
       "      <td>0.707548</td>\n",
       "      <td>0.473003</td>\n",
       "      <td>0.485367</td>\n",
       "      <td>1.000000</td>\n",
       "      <td>0.047827</td>\n",
       "      <td>-0.008230</td>\n",
       "    </tr>\n",
       "    <tr>\n",
       "      <th>cont14</th>\n",
       "      <td>-0.005209</td>\n",
       "      <td>0.056446</td>\n",
       "      <td>-0.046239</td>\n",
       "      <td>-0.040542</td>\n",
       "      <td>0.017719</td>\n",
       "      <td>-0.021885</td>\n",
       "      <td>0.042130</td>\n",
       "      <td>0.021866</td>\n",
       "      <td>0.043995</td>\n",
       "      <td>0.073942</td>\n",
       "      <td>0.041601</td>\n",
       "      <td>0.046790</td>\n",
       "      <td>0.049778</td>\n",
       "      <td>0.047827</td>\n",
       "      <td>1.000000</td>\n",
       "      <td>0.014276</td>\n",
       "    </tr>\n",
       "    <tr>\n",
       "      <th>loss</th>\n",
       "      <td>-0.000806</td>\n",
       "      <td>-0.022555</td>\n",
       "      <td>0.107156</td>\n",
       "      <td>0.081097</td>\n",
       "      <td>-0.029570</td>\n",
       "      <td>-0.001851</td>\n",
       "      <td>0.007888</td>\n",
       "      <td>0.054381</td>\n",
       "      <td>0.020427</td>\n",
       "      <td>-0.000910</td>\n",
       "      <td>-0.006588</td>\n",
       "      <td>0.045363</td>\n",
       "      <td>0.044709</td>\n",
       "      <td>-0.008230</td>\n",
       "      <td>0.014276</td>\n",
       "      <td>1.000000</td>\n",
       "    </tr>\n",
       "  </tbody>\n",
       "</table>\n",
       "</div>"
      ],
      "text/plain": [
       "              id     cont1     cont2     cont3     cont4     cont5     cont6  \\\n",
       "id      1.000000  0.002374  0.000673  0.000877  0.002365  0.000914  0.001853   \n",
       "cont1   0.002374  1.000000 -0.086084 -0.445739  0.367092 -0.026904  0.758448   \n",
       "cont2   0.000673 -0.086084  1.000000  0.455022  0.040079  0.193995  0.013180   \n",
       "cont3   0.000877 -0.445739  0.455022  1.000000 -0.341046  0.093218 -0.353002   \n",
       "cont4   0.002365  0.367092  0.040079 -0.341046  1.000000  0.162806  0.221918   \n",
       "cont5   0.000914 -0.026904  0.193995  0.093218  0.162806  1.000000 -0.150689   \n",
       "cont6   0.001853  0.758448  0.013180 -0.353002  0.221918 -0.150689  1.000000   \n",
       "cont7   0.002239  0.372800  0.042289  0.088480 -0.110908 -0.248216  0.662385   \n",
       "cont8   0.005636  0.360784  0.136785 -0.186067  0.528736  0.008442  0.438284   \n",
       "cont9   0.002266  0.929662 -0.034071 -0.418210  0.328723 -0.089954  0.797736   \n",
       "cont10  0.003023  0.808882  0.062029 -0.327669  0.283136 -0.066179  0.883356   \n",
       "cont11  0.001336  0.600279  0.112586  0.018320  0.123252 -0.150728  0.776231   \n",
       "cont12  0.001163  0.618301  0.101999 -0.000701  0.132614 -0.147246  0.787610   \n",
       "cont13  0.001127  0.533174  0.023603 -0.416981  0.177661 -0.086051  0.816465   \n",
       "cont14 -0.005209  0.056446 -0.046239 -0.040542  0.017719 -0.021885  0.042130   \n",
       "loss   -0.000806 -0.022555  0.107156  0.081097 -0.029570 -0.001851  0.007888   \n",
       "\n",
       "           cont7     cont8     cont9    cont10    cont11    cont12    cont13  \\\n",
       "id      0.002239  0.005636  0.002266  0.003023  0.001336  0.001163  0.001127   \n",
       "cont1   0.372800  0.360784  0.929662  0.808882  0.600279  0.618301  0.533174   \n",
       "cont2   0.042289  0.136785 -0.034071  0.062029  0.112586  0.101999  0.023603   \n",
       "cont3   0.088480 -0.186067 -0.418210 -0.327669  0.018320 -0.000701 -0.416981   \n",
       "cont4  -0.110908  0.528736  0.328723  0.283136  0.123252  0.132614  0.177661   \n",
       "cont5  -0.248216  0.008442 -0.089954 -0.066179 -0.150728 -0.147246 -0.086051   \n",
       "cont6   0.662385  0.438284  0.797736  0.883356  0.776231  0.787610  0.816465   \n",
       "cont7   1.000000  0.144777  0.388290  0.496550  0.746581  0.742365  0.296531   \n",
       "cont8   0.144777  1.000000  0.452759  0.336292  0.304546  0.317945  0.477875   \n",
       "cont9   0.388290  0.452759  1.000000  0.785928  0.611497  0.630063  0.642154   \n",
       "cont10  0.496550  0.336292  0.785928  1.000000  0.705597  0.716464  0.707548   \n",
       "cont11  0.746581  0.304546  0.611497  0.705597  1.000000  0.994388  0.473003   \n",
       "cont12  0.742365  0.317945  0.630063  0.716464  0.994388  1.000000  0.485367   \n",
       "cont13  0.296531  0.477875  0.642154  0.707548  0.473003  0.485367  1.000000   \n",
       "cont14  0.021866  0.043995  0.073942  0.041601  0.046790  0.049778  0.047827   \n",
       "loss    0.054381  0.020427 -0.000910 -0.006588  0.045363  0.044709 -0.008230   \n",
       "\n",
       "          cont14      loss  \n",
       "id     -0.005209 -0.000806  \n",
       "cont1   0.056446 -0.022555  \n",
       "cont2  -0.046239  0.107156  \n",
       "cont3  -0.040542  0.081097  \n",
       "cont4   0.017719 -0.029570  \n",
       "cont5  -0.021885 -0.001851  \n",
       "cont6   0.042130  0.007888  \n",
       "cont7   0.021866  0.054381  \n",
       "cont8   0.043995  0.020427  \n",
       "cont9   0.073942 -0.000910  \n",
       "cont10  0.041601 -0.006588  \n",
       "cont11  0.046790  0.045363  \n",
       "cont12  0.049778  0.044709  \n",
       "cont13  0.047827 -0.008230  \n",
       "cont14  1.000000  0.014276  \n",
       "loss    0.014276  1.000000  "
      ]
     },
     "execution_count": 80,
     "metadata": {},
     "output_type": "execute_result"
    }
   ],
   "source": [
    "data.corr()"
   ]
  },
  {
   "cell_type": "code",
   "execution_count": 81,
   "metadata": {
    "collapsed": false
   },
   "outputs": [
    {
     "data": {
      "text/plain": [
       "<matplotlib.axes._subplots.AxesSubplot at 0x7f86c597fcd0>"
      ]
     },
     "execution_count": 81,
     "metadata": {},
     "output_type": "execute_result"
    },
    {
     "data": {
      "image/png": "[encoded data removed]",
      "text/plain": [
       "<matplotlib.figure.Figure at 0x7f86bb7e6e10>"
      ]
     },
     "metadata": {},
     "output_type": "display_data"
    }
   ],
   "source": [
    "correlation = data.corr()\n",
    "plt.figure(figsize=(10, 10))\n",
    "sns.heatmap(correlation)"
   ]
  },
  {
   "cell_type": "code",
   "execution_count": 82,
   "metadata": {
    "collapsed": false
   },
   "outputs": [
    {
     "data": {
      "image/png": "[encoded data removed]",
      "text/plain": [
       "<matplotlib.figure.Figure at 0x7f86c587c710>"
      ]
     },
     "metadata": {},
     "output_type": "display_data"
    }
   ],
   "source": [
    "\n",
    "\n",
    "data['log_loss'] = np.log(data['loss'])\n",
    "\n",
    "# fit the normal distribution on ln(loss)\n",
    "(mu, sigma) = norm.fit(data['log_loss'])\n",
    "\n",
    "# the histogram of the ln(loss)\n",
    "n, bins, patches = plt.hist(data['log_loss'], 60, normed=1, facecolor='green', alpha=0.75)\n",
    "\n",
    "# add the fitted line\n",
    "y = mlab.normpdf( bins, mu, sigma)\n",
    "l = plt.plot(bins, y, 'r--', linewidth=2)\n",
    "\n",
    "#plot\n",
    "plt.xlabel('Ln(loss)')\n",
    "plt.ylabel('Probability')\n",
    "plt.title(r'$\\mathrm{Histogram\\ of\\ Ln(Loss):}\\ \\mu=%.3f,\\ \\sigma=%.3f$' %(mu, sigma))\n",
    "plt.grid(True)\n",
    "\n",
    "plt.show()"
   ]
  },
  {
   "cell_type": "code",
   "execution_count": 83,
   "metadata": {
    "collapsed": false
   },
   "outputs": [
    {
     "data": {
      "image/png": "[encoded data removed]",
      "text/plain": [
       "<matplotlib.figure.Figure at 0x7f86bb0db2d0>"
      ]
     },
     "metadata": {},
     "output_type": "display_data"
    }
   ],
   "source": [
    "mean1 = data.groupby(['cont14'])['log_loss'].mean()\n",
    "\n",
    "(mu, sigma) = norm.fit(mean1)\n",
    "\n",
    "# the histogram of the ln(loss)\n",
    "n, bins, patches = plt.hist(mean1, 60, normed=1, facecolor='green', alpha=0.75)\n",
    "\n",
    "# add the fitted line\n",
    "y = mlab.normpdf( bins, mu, sigma)\n",
    "l = plt.plot(bins, y, 'r--', linewidth=2)\n",
    "\n",
    "#plot\n",
    "plt.xlabel('Ln(loss)')\n",
    "plt.ylabel('Probability')\n",
    "plt.title(r'$\\mathrm{Histogram\\ of\\ Ln(Loss):}\\ \\mu=%.3f,\\ \\sigma=%.3f$' %(mu, sigma))\n",
    "plt.grid(True)\n",
    "\n",
    "plt.show()"
   ]
  },
  {
   "cell_type": "code",
   "execution_count": null,
   "metadata": {
    "collapsed": false
   },
   "outputs": [],
   "source": [
    "# cont1, 4, 6, 7, 14 \n",
    "# 5, 8, 9, \n",
    "# log_loss ke saath better aa raha hai..  some attributes doesnt relate at all\n"
   ]
  },
  {
   "cell_type": "code",
   "execution_count": 85,
   "metadata": {
    "collapsed": false,
    "scrolled": true
   },
   "outputs": [
    {
     "data": {
      "text/plain": [
       "<matplotlib.axes._subplots.AxesSubplot at 0x7f86bb801110>"
      ]
     },
     "execution_count": 85,
     "metadata": {},
     "output_type": "execute_result"
    },
    {
     "data": {
      "image/png": "[encoded data removed]",
      "text/plain": [
       "<matplotlib.figure.Figure at 0x7f86c590c450>"
      ]
     },
     "metadata": {},
     "output_type": "display_data"
    }
   ],
   "source": [
    "data['cont1'].hist()"
   ]
  },
  {
   "cell_type": "code",
   "execution_count": 87,
   "metadata": {
    "collapsed": false
   },
   "outputs": [
    {
     "name": "stdout",
     "output_type": "stream",
     "text": [
      "\n",
      "Skew in numeric features:\n",
      "id         -0.001861\n",
      "cont1       0.514080\n",
      "cont2      -0.295371\n",
      "cont3      -0.007844\n",
      "cont4       0.411462\n",
      "cont5       0.678287\n",
      "cont6       0.466507\n",
      "cont7       0.835907\n",
      "cont8       0.679845\n",
      "cont9       1.075533\n",
      "cont10      0.360493\n",
      "cont11      0.290450\n",
      "cont12      0.301199\n",
      "cont13      0.383100\n",
      "cont14      0.252527\n",
      "loss        1.508979\n",
      "log_loss   -0.065591\n",
      "dtype: float64\n"
     ]
    }
   ],
   "source": [
    "from scipy.stats import skew, boxcox\n",
    "\n",
    "numeric_feats = data.dtypes[data.dtypes != \"object\"].index\n",
    "# compute skew and do Box-Cox transformation\n",
    "skewed_feats = data[numeric_feats].apply(lambda x: skew(x.dropna()))\n",
    "print(\"\\nSkew in numeric features:\")\n",
    "print(skewed_feats)\n",
    "skewed_feats = skewed_feats[skewed_feats > 0.25]\n",
    "skewed_feats = skewed_feats.index\n",
    "for feats in skewed_feats:\n",
    "    data[feats] = data[feats] + 1\n",
    "    data[feats], lam = boxcox(data[feats])\n",
    "features = data.columns\n",
    "cats = [feat for feat in features if 'cat' in feat]\n",
    "# factorize categorical features\n",
    "for feat in cats:\n",
    "    data[feat] = pd.factorize(data[feat], sort=True)[0]\n",
    "x_train = data.iloc[:ntrain, :]\n",
    "x_test = data.iloc[ntrain:, :]\n",
    "train_test_scaled, scaler = scale_data(train_test)\n",
    "train, _ = scale_data(x_train, scaler)\n",
    "test, _ = scale_data(x_test, scaler)\n",
    "\n",
    " train_ids = train_loader['id'].values.astype(np.int32)\n",
    "test_ids = test_loader['id'].values.astype(np.int32)"
   ]
  },
  {
   "cell_type": "code",
   "execution_count": 48,
   "metadata": {
    "collapsed": false
   },
   "outputs": [
    {
     "data": {
      "text/plain": [
       "cat1\n",
       "A    7.764114\n",
       "B    7.304845\n",
       "Name: log_loss, dtype: float64"
      ]
     },
     "execution_count": 48,
     "metadata": {},
     "output_type": "execute_result"
    }
   ],
   "source": [
    "data.groupby(['cat1'])['log_loss'].mean()"
   ]
  },
  {
   "cell_type": "code",
   "execution_count": null,
   "metadata": {
    "collapsed": false
   },
   "outputs": [],
   "source": [
    "data['cat1'].apply( lambda x : data[data['cat1'] == x]['log_loss'].mean() ) "
   ]
  },
  {
   "cell_type": "code",
   "execution_count": 88,
   "metadata": {
    "collapsed": false
   },
   "outputs": [
    {
     "data": {
      "text/plain": [
       "<matplotlib.axes._subplots.AxesSubplot at 0x7f86c4e66850>"
      ]
     },
     "execution_count": 88,
     "metadata": {},
     "output_type": "execute_result"
    },
    {
     "data": {
      "image/png": "[encoded data removed]",
      "text/plain": [
       "<matplotlib.figure.Figure at 0x7f86c4e71050>"
      ]
     },
     "metadata": {},
     "output_type": "display_data"
    }
   ],
   "source": [
    "data['cont1'].hist()"
   ]
  }
 ],
 "metadata": {
  "kernelspec": {
   "display_name": "Python [Root]",
   "language": "python",
   "name": "Python [Root]"
  },
  "language_info": {
   "codemirror_mode": {
    "name": "ipython",
    "version": 2
   },
   "file_extension": ".py",
   "mimetype": "text/x-python",
   "name": "python",
   "nbconvert_exporter": "python",
   "pygments_lexer": "ipython2",
   "version": "2.7.12"
  }
 },
 "nbformat": 4,
 "nbformat_minor": 0
}
